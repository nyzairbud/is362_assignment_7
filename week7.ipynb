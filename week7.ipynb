{
 "cells": [
  {
   "cell_type": "markdown",
   "metadata": {},
   "source": [
    "Importing data from a csv file that was created through mysql"
   ]
  },
  {
   "cell_type": "code",
   "execution_count": 2,
   "metadata": {},
   "outputs": [
    {
     "data": {
      "text/html": [
       "<div>\n",
       "<style scoped>\n",
       "    .dataframe tbody tr th:only-of-type {\n",
       "        vertical-align: middle;\n",
       "    }\n",
       "\n",
       "    .dataframe tbody tr th {\n",
       "        vertical-align: top;\n",
       "    }\n",
       "\n",
       "    .dataframe thead th {\n",
       "        text-align: right;\n",
       "    }\n",
       "</style>\n",
       "<table border=\"1\" class=\"dataframe\">\n",
       "  <thead>\n",
       "    <tr style=\"text-align: right;\">\n",
       "      <th></th>\n",
       "      <th>Thor</th>\n",
       "      <th>Moana</th>\n",
       "      <th>Wonder Woman</th>\n",
       "      <th>Jurassic World</th>\n",
       "      <th>Venom</th>\n",
       "      <th>Lucy</th>\n",
       "    </tr>\n",
       "    <tr>\n",
       "      <th>Person</th>\n",
       "      <th></th>\n",
       "      <th></th>\n",
       "      <th></th>\n",
       "      <th></th>\n",
       "      <th></th>\n",
       "      <th></th>\n",
       "    </tr>\n",
       "  </thead>\n",
       "  <tbody>\n",
       "    <tr>\n",
       "      <th>Carlos</th>\n",
       "      <td>2</td>\n",
       "      <td>NaN</td>\n",
       "      <td>3.0</td>\n",
       "      <td>4.0</td>\n",
       "      <td>5</td>\n",
       "      <td>1</td>\n",
       "    </tr>\n",
       "    <tr>\n",
       "      <th>Tom</th>\n",
       "      <td>5</td>\n",
       "      <td>1.0</td>\n",
       "      <td>4.0</td>\n",
       "      <td>2.0</td>\n",
       "      <td>1</td>\n",
       "      <td>1</td>\n",
       "    </tr>\n",
       "    <tr>\n",
       "      <th>Logan</th>\n",
       "      <td>3</td>\n",
       "      <td>2.0</td>\n",
       "      <td>NaN</td>\n",
       "      <td>NaN</td>\n",
       "      <td>4</td>\n",
       "      <td>1</td>\n",
       "    </tr>\n",
       "    <tr>\n",
       "      <th>Phil</th>\n",
       "      <td>5</td>\n",
       "      <td>NaN</td>\n",
       "      <td>NaN</td>\n",
       "      <td>NaN</td>\n",
       "      <td>3</td>\n",
       "      <td>5</td>\n",
       "    </tr>\n",
       "    <tr>\n",
       "      <th>Adrien</th>\n",
       "      <td>3</td>\n",
       "      <td>5.0</td>\n",
       "      <td>5.0</td>\n",
       "      <td>1.0</td>\n",
       "      <td>2</td>\n",
       "      <td>3</td>\n",
       "    </tr>\n",
       "  </tbody>\n",
       "</table>\n",
       "</div>"
      ],
      "text/plain": [
       "        Thor  Moana  Wonder Woman  Jurassic World  Venom  Lucy\n",
       "Person                                                        \n",
       "Carlos     2    NaN           3.0             4.0      5     1\n",
       "Tom        5    1.0           4.0             2.0      1     1\n",
       "Logan      3    2.0           NaN             NaN      4     1\n",
       "Phil       5    NaN           NaN             NaN      3     5\n",
       "Adrien     3    5.0           5.0             1.0      2     3"
      ]
     },
     "execution_count": 2,
     "metadata": {},
     "output_type": "execute_result"
    }
   ],
   "source": [
    "import pandas as pd \n",
    "import csv\n",
    "import numpy as np\n",
    "Movies = pd.read_csv(r'C:\\Users\\saul\\Desktop\\week7csv.csv', index_col=0)\n",
    "\n",
    "Movies.head()"
   ]
  },
  {
   "cell_type": "markdown",
   "metadata": {},
   "source": [
    "Average by movie "
   ]
  },
  {
   "cell_type": "code",
   "execution_count": 3,
   "metadata": {},
   "outputs": [
    {
     "data": {
      "text/plain": [
       "Thor              3.600000\n",
       "Moana             2.666667\n",
       "Wonder Woman      4.000000\n",
       "Jurassic World    2.333333\n",
       "Venom             3.000000\n",
       "Lucy              2.200000\n",
       "dtype: float64"
      ]
     },
     "execution_count": 3,
     "metadata": {},
     "output_type": "execute_result"
    }
   ],
   "source": [
    "Rating_By_Movie = Movies.mean()\n",
    "Rating_By_Movie"
   ]
  },
  {
   "cell_type": "markdown",
   "metadata": {},
   "source": [
    "Average by viewer"
   ]
  },
  {
   "cell_type": "code",
   "execution_count": 4,
   "metadata": {},
   "outputs": [
    {
     "data": {
      "text/plain": [
       "Person\n",
       "Carlos    3.000000\n",
       "Tom       2.333333\n",
       "Logan     2.500000\n",
       "Phil      4.333333\n",
       "Adrien    3.166667\n",
       "dtype: float64"
      ]
     },
     "execution_count": 4,
     "metadata": {},
     "output_type": "execute_result"
    }
   ],
   "source": [
    "Rating_By_Person = Movies.mean(axis=1)\n",
    "Rating_By_Person\n"
   ]
  },
  {
   "cell_type": "markdown",
   "metadata": {},
   "source": [
    "Normalize the Data"
   ]
  },
  {
   "cell_type": "code",
   "execution_count": 5,
   "metadata": {},
   "outputs": [
    {
     "data": {
      "text/html": [
       "<div>\n",
       "<style scoped>\n",
       "    .dataframe tbody tr th:only-of-type {\n",
       "        vertical-align: middle;\n",
       "    }\n",
       "\n",
       "    .dataframe tbody tr th {\n",
       "        vertical-align: top;\n",
       "    }\n",
       "\n",
       "    .dataframe thead th {\n",
       "        text-align: right;\n",
       "    }\n",
       "</style>\n",
       "<table border=\"1\" class=\"dataframe\">\n",
       "  <thead>\n",
       "    <tr style=\"text-align: right;\">\n",
       "      <th></th>\n",
       "      <th>Thor</th>\n",
       "      <th>Moana</th>\n",
       "      <th>Wonder Woman</th>\n",
       "      <th>Jurassic World</th>\n",
       "      <th>Venom</th>\n",
       "      <th>Lucy</th>\n",
       "    </tr>\n",
       "    <tr>\n",
       "      <th>Person</th>\n",
       "      <th></th>\n",
       "      <th></th>\n",
       "      <th></th>\n",
       "      <th></th>\n",
       "      <th></th>\n",
       "      <th></th>\n",
       "    </tr>\n",
       "  </thead>\n",
       "  <tbody>\n",
       "    <tr>\n",
       "      <th>Carlos</th>\n",
       "      <td>0.000000</td>\n",
       "      <td>NaN</td>\n",
       "      <td>0.0</td>\n",
       "      <td>1.000000</td>\n",
       "      <td>1.00</td>\n",
       "      <td>0.0</td>\n",
       "    </tr>\n",
       "    <tr>\n",
       "      <th>Tom</th>\n",
       "      <td>1.000000</td>\n",
       "      <td>0.00</td>\n",
       "      <td>0.5</td>\n",
       "      <td>0.333333</td>\n",
       "      <td>0.00</td>\n",
       "      <td>0.0</td>\n",
       "    </tr>\n",
       "    <tr>\n",
       "      <th>Logan</th>\n",
       "      <td>0.333333</td>\n",
       "      <td>0.25</td>\n",
       "      <td>NaN</td>\n",
       "      <td>NaN</td>\n",
       "      <td>0.75</td>\n",
       "      <td>0.0</td>\n",
       "    </tr>\n",
       "    <tr>\n",
       "      <th>Phil</th>\n",
       "      <td>1.000000</td>\n",
       "      <td>NaN</td>\n",
       "      <td>NaN</td>\n",
       "      <td>NaN</td>\n",
       "      <td>0.50</td>\n",
       "      <td>1.0</td>\n",
       "    </tr>\n",
       "    <tr>\n",
       "      <th>Adrien</th>\n",
       "      <td>0.333333</td>\n",
       "      <td>1.00</td>\n",
       "      <td>1.0</td>\n",
       "      <td>0.000000</td>\n",
       "      <td>0.25</td>\n",
       "      <td>0.5</td>\n",
       "    </tr>\n",
       "  </tbody>\n",
       "</table>\n",
       "</div>"
      ],
      "text/plain": [
       "            Thor  Moana  Wonder Woman  Jurassic World  Venom  Lucy\n",
       "Person                                                            \n",
       "Carlos  0.000000    NaN           0.0        1.000000   1.00   0.0\n",
       "Tom     1.000000   0.00           0.5        0.333333   0.00   0.0\n",
       "Logan   0.333333   0.25           NaN             NaN   0.75   0.0\n",
       "Phil    1.000000    NaN           NaN             NaN   0.50   1.0\n",
       "Adrien  0.333333   1.00           1.0        0.000000   0.25   0.5"
      ]
     },
     "execution_count": 5,
     "metadata": {},
     "output_type": "execute_result"
    }
   ],
   "source": [
    "\n",
    "Normalize = (Movies - Movies.min()) / (Movies.max() - Movies.min())\n",
    "Normalize"
   ]
  },
  {
   "cell_type": "markdown",
   "metadata": {},
   "source": [
    "Average Normalized movie ratings "
   ]
  },
  {
   "cell_type": "code",
   "execution_count": 7,
   "metadata": {},
   "outputs": [
    {
     "data": {
      "text/plain": [
       "Thor              0.533333\n",
       "Moana             0.416667\n",
       "Wonder Woman      0.500000\n",
       "Jurassic World    0.444444\n",
       "Venom             0.500000\n",
       "Lucy              0.300000\n",
       "dtype: float64"
      ]
     },
     "execution_count": 7,
     "metadata": {},
     "output_type": "execute_result"
    }
   ],
   "source": [
    "Average_Movie_N = Normalize.mean()\n",
    "Average_Movie_N"
   ]
  },
  {
   "cell_type": "markdown",
   "metadata": {},
   "source": [
    "Average Normalized rating by person"
   ]
  },
  {
   "cell_type": "code",
   "execution_count": 8,
   "metadata": {},
   "outputs": [
    {
     "data": {
      "text/plain": [
       "Person\n",
       "Carlos    0.400000\n",
       "Tom       0.305556\n",
       "Logan     0.333333\n",
       "Phil      0.833333\n",
       "Adrien    0.513889\n",
       "dtype: float64"
      ]
     },
     "execution_count": 8,
     "metadata": {},
     "output_type": "execute_result"
    }
   ],
   "source": [
    "Average_Person = Normalize.mean(axis=1)\n",
    "Average_Person"
   ]
  },
  {
   "cell_type": "markdown",
   "metadata": {},
   "source": [
    "Normalizing the data will help with elminiating the outliers. By having less data to process, the code can run faster and give the user the desired result. On the other hand we also eliminate the actual rating that the indivdaul had for that movie because we are using statics where it fals between 1 and zero. \n"
   ]
  },
  {
   "cell_type": "markdown",
   "metadata": {},
   "source": [
    "Standarize by Movie\n"
   ]
  },
  {
   "cell_type": "code",
   "execution_count": 17,
   "metadata": {},
   "outputs": [
    {
     "data": {
      "text/html": [
       "<div>\n",
       "<style scoped>\n",
       "    .dataframe tbody tr th:only-of-type {\n",
       "        vertical-align: middle;\n",
       "    }\n",
       "\n",
       "    .dataframe tbody tr th {\n",
       "        vertical-align: top;\n",
       "    }\n",
       "\n",
       "    .dataframe thead th {\n",
       "        text-align: right;\n",
       "    }\n",
       "</style>\n",
       "<table border=\"1\" class=\"dataframe\">\n",
       "  <thead>\n",
       "    <tr style=\"text-align: right;\">\n",
       "      <th></th>\n",
       "      <th>Thor</th>\n",
       "      <th>Moana</th>\n",
       "      <th>Wonder Woman</th>\n",
       "      <th>Jurassic World</th>\n",
       "      <th>Venom</th>\n",
       "      <th>Lucy</th>\n",
       "    </tr>\n",
       "    <tr>\n",
       "      <th>Person</th>\n",
       "      <th></th>\n",
       "      <th></th>\n",
       "      <th></th>\n",
       "      <th></th>\n",
       "      <th></th>\n",
       "      <th></th>\n",
       "    </tr>\n",
       "  </thead>\n",
       "  <tbody>\n",
       "    <tr>\n",
       "      <th>Carlos</th>\n",
       "      <td>-1.192570</td>\n",
       "      <td>NaN</td>\n",
       "      <td>-1.0</td>\n",
       "      <td>1.091089</td>\n",
       "      <td>1.264911</td>\n",
       "      <td>-0.670820</td>\n",
       "    </tr>\n",
       "    <tr>\n",
       "      <th>Tom</th>\n",
       "      <td>1.043498</td>\n",
       "      <td>-0.800641</td>\n",
       "      <td>0.0</td>\n",
       "      <td>-0.218218</td>\n",
       "      <td>-1.264911</td>\n",
       "      <td>-0.670820</td>\n",
       "    </tr>\n",
       "    <tr>\n",
       "      <th>Logan</th>\n",
       "      <td>-0.447214</td>\n",
       "      <td>-0.320256</td>\n",
       "      <td>NaN</td>\n",
       "      <td>NaN</td>\n",
       "      <td>0.632456</td>\n",
       "      <td>-0.670820</td>\n",
       "    </tr>\n",
       "    <tr>\n",
       "      <th>Phil</th>\n",
       "      <td>1.043498</td>\n",
       "      <td>NaN</td>\n",
       "      <td>NaN</td>\n",
       "      <td>NaN</td>\n",
       "      <td>0.000000</td>\n",
       "      <td>1.565248</td>\n",
       "    </tr>\n",
       "    <tr>\n",
       "      <th>Adrien</th>\n",
       "      <td>-0.447214</td>\n",
       "      <td>1.120897</td>\n",
       "      <td>1.0</td>\n",
       "      <td>-0.872872</td>\n",
       "      <td>-0.632456</td>\n",
       "      <td>0.447214</td>\n",
       "    </tr>\n",
       "  </tbody>\n",
       "</table>\n",
       "</div>"
      ],
      "text/plain": [
       "            Thor     Moana  Wonder Woman  Jurassic World     Venom      Lucy\n",
       "Person                                                                      \n",
       "Carlos -1.192570       NaN          -1.0        1.091089  1.264911 -0.670820\n",
       "Tom     1.043498 -0.800641           0.0       -0.218218 -1.264911 -0.670820\n",
       "Logan  -0.447214 -0.320256           NaN             NaN  0.632456 -0.670820\n",
       "Phil    1.043498       NaN           NaN             NaN  0.000000  1.565248\n",
       "Adrien -0.447214  1.120897           1.0       -0.872872 -0.632456  0.447214"
      ]
     },
     "execution_count": 17,
     "metadata": {},
     "output_type": "execute_result"
    }
   ],
   "source": [
    "standardized = (Movies - Movies.mean()) / Movies.std()\n",
    "standardized"
   ]
  },
  {
   "cell_type": "markdown",
   "metadata": {},
   "source": [
    "Standarized averge by person"
   ]
  },
  {
   "cell_type": "code",
   "execution_count": 21,
   "metadata": {},
   "outputs": [
    {
     "data": {
      "text/plain": [
       "Person\n",
       "Carlos   -0.101478\n",
       "Tom      -0.318515\n",
       "Logan    -0.201459\n",
       "Phil      0.869582\n",
       "Adrien    0.102595\n",
       "dtype: float64"
      ]
     },
     "execution_count": 21,
     "metadata": {},
     "output_type": "execute_result"
    }
   ],
   "source": [
    "s_person = standardized.mean(axis=1)\n",
    "s_person"
   ]
  },
  {
   "cell_type": "markdown",
   "metadata": {},
   "source": [
    "standarized average by movie "
   ]
  },
  {
   "cell_type": "code",
   "execution_count": 23,
   "metadata": {},
   "outputs": [
    {
     "data": {
      "text/plain": [
       "Thor             -8.881784e-17\n",
       "Moana             7.401487e-17\n",
       "Wonder Woman      0.000000e+00\n",
       "Jurassic World   -1.110223e-16\n",
       "Venom             0.000000e+00\n",
       "Lucy             -8.881784e-17\n",
       "dtype: float64"
      ]
     },
     "execution_count": 23,
     "metadata": {},
     "output_type": "execute_result"
    }
   ],
   "source": [
    "s_movie = standardized.mean()\n",
    "s_movie"
   ]
  }
 ],
 "metadata": {
  "kernelspec": {
   "display_name": "Python 3",
   "language": "python",
   "name": "python3"
  },
  "language_info": {
   "codemirror_mode": {
    "name": "ipython",
    "version": 3
   },
   "file_extension": ".py",
   "mimetype": "text/x-python",
   "name": "python",
   "nbconvert_exporter": "python",
   "pygments_lexer": "ipython3",
   "version": "3.6.5"
  }
 },
 "nbformat": 4,
 "nbformat_minor": 2
}
